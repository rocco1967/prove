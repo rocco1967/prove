{
 "cells": [
  {
   "cell_type": "code",
   "execution_count": 1,
   "metadata": {},
   "outputs": [],
   "source": [
    "from tcn import TCN, tcn_full_summary\n",
    "from tensorflow.keras.layers import Dense\n",
    "from tensorflow.keras.models import Sequential\n",
    "import matplotlib.pyplot as plt\n",
    "import numpy as np\n",
    "import pandas as pd\n",
    "from tcn import TCN"
   ]
  },
  {
   "cell_type": "code",
   "execution_count": 2,
   "metadata": {},
   "outputs": [],
   "source": [
    "#############################    DAX     ######################################################################\n",
    "import datetime\n",
    "import tscv\n",
    "import numpy as np\n",
    "from scipy import stats\n",
    "import pandas as pd\n",
    "import matplotlib.pyplot as plt\n",
    "import seaborn as sns\n",
    "from IPython.core.display import display\n",
    "from sklearn.naive_bayes import GaussianNB,BernoulliNB,CategoricalNB,ComplementNB\n",
    "%matplotlib inline\n",
    "import yfinance as yf \n",
    "from xgboost import XGBClassifier\n",
    "from sklearn.linear_model import LogisticRegression\n",
    "from sklearn.ensemble import RandomForestClassifier,RandomForestRegressor\n",
    "from sklearn.isotonic import IsotonicRegression\n",
    "from catboost import CatBoostClassifier,CatBoostRegressor\n",
    "from xgboost import XGBClassifier\n",
    "df = pd.read_csv((r\"C:\\Users\\39333\\Desktop\\ANACONDA\\EU_D1_Date.csv\"),index_col=['Date'],parse_dates=['Date'])\n",
    "#df=df.drop(columns=['Time','Vol','OI'],axis=1)\n",
    "df\n",
    "df['Close_log']=(df.Close.apply(np.log).diff(1).fillna(0))\n",
    "#df,X,Y\n",
    "\n",
    "#df['shift_log']=df['Close_log'].shift(0)\n",
    "#df['shift_log_cat']=np.where(df.shift_log >0,1,0)\n",
    "#df=df.dropna()\n",
    "#df\n",
    "#X=df[['Open','High','Low','Close']]#.shift(1).fillna(method='bfill')\n",
    "#Y=df['shift_log']\n",
    "#X,Y\n",
    "from sklearn.model_selection import train_test_split\n",
    "#X_train, X_test, y_train, y_test = train_test_split(X, Y, test_size=0.50,shuffle=False)\n",
    "#df,X_test.shape,X,Y[:len(X)]"
   ]
  },
  {
   "cell_type": "code",
   "execution_count": 4,
   "metadata": {},
   "outputs": [
    {
     "data": {
      "text/plain": [
       "Date\n",
       "2012-06-01    0.005484\n",
       "2012-06-04    0.005335\n",
       "2012-06-05   -0.003815\n",
       "2012-06-06    0.010339\n",
       "2012-06-07   -0.001686\n",
       "                ...   \n",
       "2021-09-03    0.000244\n",
       "2021-09-06   -0.000758\n",
       "2021-09-07   -0.002396\n",
       "2021-09-08   -0.002190\n",
       "2021-09-09    0.000812\n",
       "Name: Close_log, Length: 2429, dtype: float64"
      ]
     },
     "execution_count": 4,
     "metadata": {},
     "output_type": "execute_result"
    },
    {
     "data": {
      "image/png": "[encoded data removed]",
      "text/plain": [
       "<Figure size 432x288 with 1 Axes>"
      ]
     },
     "metadata": {
      "needs_background": "light"
     },
     "output_type": "display_data"
    }
   ],
   "source": [
    "df1=df['Close_log'].dropna()\n",
    "df1[-2429:].cumsum().plot()\n",
    "df1[-2429:]"
   ]
  },
  {
   "cell_type": "code",
   "execution_count": 5,
   "metadata": {},
   "outputs": [
    {
     "name": "stdout",
     "output_type": "stream",
     "text": [
      "(2428, 3)\n",
      "(2428,)\n"
     ]
    }
   ],
   "source": [
    "lookback_window = 3\n",
    "df1 = df1.values\n",
    "x, y = [], []\n",
    "for i in range(lookback_window, len(df1)):\n",
    "    x.append(df1[i - lookback_window:i])\n",
    "    y.append(df1[i])\n",
    "x = np.array(x)\n",
    "y = np.array(y)\n",
    "from sklearn.model_selection import train_test_split\n",
    "x_train, x_test, y_train, y_test = train_test_split(x, y, test_size=0.50,shuffle=False)\n",
    "print(x_test.shape)\n",
    "print(y_test.shape)"
   ]
  },
  {
   "cell_type": "code",
   "execution_count": 6,
   "metadata": {},
   "outputs": [
    {
     "name": "stdout",
     "output_type": "stream",
     "text": [
      "Using matplotlib backend: Qt5Agg\n",
      "Model: \"sequential\"\n",
      "_________________________________________________________________\n",
      "Layer (type)                 Output Shape              Param #   \n",
      "=================================================================\n",
      "tcn (TCN)                    (None, 64)                136256    \n",
      "_________________________________________________________________\n",
      "dense (Dense)                (None, 1)                 65        \n",
      "=================================================================\n",
      "Total params: 136,321\n",
      "Trainable params: 136,321\n",
      "Non-trainable params: 0\n",
      "_________________________________________________________________\n",
      "Train...\n",
      "Epoch 1/15\n",
      "76/76 - 2s - loss: 0.0074\n",
      "Epoch 2/15\n",
      "76/76 - 1s - loss: 0.0053\n",
      "Epoch 3/15\n",
      "76/76 - 1s - loss: 0.0051\n",
      "Epoch 4/15\n",
      "76/76 - 1s - loss: 0.0052\n",
      "Epoch 5/15\n",
      "76/76 - 1s - loss: 0.0052\n",
      "Epoch 6/15\n",
      "76/76 - 1s - loss: 0.0050\n",
      "Epoch 7/15\n",
      "76/76 - 1s - loss: 0.0050\n",
      "Epoch 8/15\n",
      "76/76 - 1s - loss: 0.0050\n",
      "Epoch 9/15\n",
      "76/76 - 1s - loss: 0.0050\n",
      "Epoch 10/15\n",
      "76/76 - 1s - loss: 0.0050\n",
      "Epoch 11/15\n",
      "76/76 - 1s - loss: 0.0049\n",
      "Epoch 12/15\n",
      "76/76 - 1s - loss: 0.0051\n",
      "Epoch 13/15\n",
      "76/76 - 1s - loss: 0.0049\n",
      "Epoch 14/15\n",
      "76/76 - 1s - loss: 0.0049\n",
      "Epoch 15/15\n",
      "76/76 - 1s - loss: 0.0050\n"
     ]
    }
   ],
   "source": [
    "%matplotlib\n",
    "model = Sequential([\n",
    "    TCN(input_shape=(lookback_window, 1),\n",
    "        kernel_size=3,\n",
    "        nb_filters = 64,\n",
    "        activation='relu',\n",
    "        use_skip_connections=False,\n",
    "        use_batch_norm=False,\n",
    "        use_weight_norm=False,\n",
    "        use_layer_norm=False,\n",
    "        kernel_initializer ='he_normal' \n",
    "        ),\n",
    "    Dense(1, activation='linear')\n",
    "])\n",
    "\n",
    "model.summary()\n",
    "model.compile('adam', 'mae')\n",
    "\n",
    "print('Train...')\n",
    "model.fit(x_train, y_train, epochs=15, verbose=2)\n",
    "\n",
    "p = model.predict(x_test)\n",
    "\n",
    "plt.plot(p)\n",
    "plt.plot(y_test)\n",
    "plt.title('Monthly Milk Production (in pounds)')\n",
    "plt.legend(['predicted', 'actual'])\n",
    "plt.show()\n"
   ]
  },
  {
   "cell_type": "code",
   "execution_count": 187,
   "metadata": {},
   "outputs": [
    {
     "data": {
      "text/plain": [
       "((2428, 1),\n",
       " array([[-1.09139517e-02, -8.89582584e-05,  5.48441546e-03],\n",
       "        [-8.89582584e-05,  5.48441546e-03,  5.33450112e-03],\n",
       "        [ 5.48441546e-03,  5.33450112e-03, -3.81548297e-03],\n",
       "        ...,\n",
       "        [ 3.07012606e-03,  2.44193048e-04, -7.58035209e-04],\n",
       "        [ 2.44193048e-04, -7.58035209e-04, -2.39579669e-03],\n",
       "        [-7.58035209e-04, -2.39579669e-03, -2.18991459e-03]]))"
      ]
     },
     "execution_count": 187,
     "metadata": {},
     "output_type": "execute_result"
    }
   ],
   "source": [
    "p.shape,x_test"
   ]
  },
  {
   "cell_type": "code",
   "execution_count": 150,
   "metadata": {},
   "outputs": [
    {
     "data": {
      "text/plain": [
       "[<matplotlib.lines.Line2D at 0x274124d5ee0>]"
      ]
     },
     "execution_count": 150,
     "metadata": {},
     "output_type": "execute_result"
    }
   ],
   "source": [
    "plt.plot(y_test.reshape(-1,1)-p)\n"
   ]
  },
  {
   "cell_type": "code",
   "execution_count": 72,
   "metadata": {},
   "outputs": [
    {
     "data": {
      "text/plain": [
       " 1    2416\n",
       "-1      13\n",
       "dtype: int64"
      ]
     },
     "execution_count": 72,
     "metadata": {},
     "output_type": "execute_result"
    }
   ],
   "source": [
    "from collections import Counter\n",
    "pos.value_counts()"
   ]
  },
  {
   "cell_type": "code",
   "execution_count": 200,
   "metadata": {},
   "outputs": [],
   "source": [
    "yhat=p\n",
    "w1 = pd.DataFrame(yhat,columns=['previsto'],index=(df.Close_log[-2428:].index))\n",
    "w2 = df.Close_log[-2428:]\n",
    "#ma_x=np.where(w1['previsto']>0,1,-1)########  prima opzione\n",
    "ma_x=(w1['previsto']-df['Close_log'][-2428:])########  seconda opzione \n",
    "\n",
    "#ma_x =pd.DataFrame(yhat,columns=['previsto'])\n",
    "ma_x=pd.DataFrame(ma_x,index=(df.Close_log[-2428:].index))\n",
    "pos = ma_x.apply(np.sign)"
   ]
  },
  {
   "cell_type": "code",
   "execution_count": 201,
   "metadata": {},
   "outputs": [
    {
     "data": {
      "text/plain": [
       "(            previsto\n",
       " Date                \n",
       " 2012-06-04  0.000530\n",
       " 2012-06-05  0.000561\n",
       " 2012-06-06  0.000948\n",
       " 2012-06-07 -0.000456\n",
       " 2012-06-08  0.000934\n",
       " ...              ...\n",
       " 2021-09-03  0.000712\n",
       " 2021-09-06  0.000897\n",
       " 2021-09-07  0.000948\n",
       " 2021-09-08  0.000947\n",
       " 2021-09-09  0.000947\n",
       " \n",
       " [2428 rows x 1 columns],\n",
       " Date\n",
       " 2012-06-04    0.005335\n",
       " 2012-06-05   -0.003815\n",
       " 2012-06-06    0.010339\n",
       " 2012-06-07   -0.001686\n",
       " 2012-06-08   -0.003509\n",
       "                 ...   \n",
       " 2021-09-03    0.000244\n",
       " 2021-09-06   -0.000758\n",
       " 2021-09-07   -0.002396\n",
       " 2021-09-08   -0.002190\n",
       " 2021-09-09    0.000812\n",
       " Name: Close_log, Length: 2428, dtype: float64,\n",
       "                    0\n",
       " Date                \n",
       " 2012-06-04 -0.004805\n",
       " 2012-06-05  0.004377\n",
       " 2012-06-06 -0.009391\n",
       " 2012-06-07  0.001231\n",
       " 2012-06-08  0.004444\n",
       " ...              ...\n",
       " 2021-09-03  0.000468\n",
       " 2021-09-06  0.001655\n",
       " 2021-09-07  0.003344\n",
       " 2021-09-08  0.003137\n",
       " 2021-09-09  0.000135\n",
       " \n",
       " [2428 rows x 1 columns],\n",
       "               0\n",
       " Date           \n",
       " 2012-06-04 -1.0\n",
       " 2012-06-05  1.0\n",
       " 2012-06-06 -1.0\n",
       " 2012-06-07  1.0\n",
       " 2012-06-08  1.0\n",
       " ...         ...\n",
       " 2021-09-03  1.0\n",
       " 2021-09-06  1.0\n",
       " 2021-09-07  1.0\n",
       " 2021-09-08  1.0\n",
       " 2021-09-09  1.0\n",
       " \n",
       " [2428 rows x 1 columns])"
      ]
     },
     "execution_count": 201,
     "metadata": {},
     "output_type": "execute_result"
    }
   ],
   "source": [
    "w1,w2,ma_x,pos"
   ]
  },
  {
   "cell_type": "code",
   "execution_count": 204,
   "metadata": {},
   "outputs": [
    {
     "data": {
      "text/plain": [
       "<AxesSubplot:xlabel='Date'>"
      ]
     },
     "execution_count": 204,
     "metadata": {},
     "output_type": "execute_result"
    }
   ],
   "source": [
    "import matplotlib.pyplot as plt\n",
    "rs=np.array(df1[-2428:])#.diff(1)\n",
    "rs=rs.reshape(-1,1)\n",
    "#rs=df.Close_log[-2429:]\n",
    "#my_rs = pos*rs\n",
    "#my_rs.cumsum().apply(np.exp).plot(title='Strategy Performance')\n",
    "#rs=rs.reshape(-1,1)#[len(x_test)]#[-257:]\n",
    "rs.shape,pos.shape\n",
    "my_rs=pos.shift(1)*rs\n",
    "plt.plot(my_rs.cumsum())\n",
    "df['Close_log'][-2428:].cumsum().plot(color='red')"
   ]
  },
  {
   "cell_type": "code",
   "execution_count": 203,
   "metadata": {},
   "outputs": [
    {
     "data": {
      "text/plain": [
       "<AxesSubplot:title={'center':'Strategy Performance'}, xlabel='Date'>"
      ]
     },
     "execution_count": 203,
     "metadata": {},
     "output_type": "execute_result"
    }
   ],
   "source": [
    "my_rs.cumsum().apply(np.exp).plot(title='Strategy Performance')"
   ]
  },
  {
   "cell_type": "code",
   "execution_count": null,
   "metadata": {},
   "outputs": [],
   "source": []
  }
 ],
 "metadata": {
  "kernelspec": {
   "display_name": "Python 3",
   "language": "python",
   "name": "python3"
  },
  "language_info": {
   "codemirror_mode": {
    "name": "ipython",
    "version": 3
   },
   "file_extension": ".py",
   "mimetype": "text/x-python",
   "name": "python",
   "nbconvert_exporter": "python",
   "pygments_lexer": "ipython3",
   "version": "3.8.5"
  }
 },
 "nbformat": 4,
 "nbformat_minor": 4
}
